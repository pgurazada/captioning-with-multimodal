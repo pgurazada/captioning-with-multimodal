{
  "nbformat": 4,
  "nbformat_minor": 0,
  "metadata": {
    "colab": {
      "provenance": [],
      "authorship_tag": "ABX9TyN0gqdZc6lWKIevU16zp/N5",
      "include_colab_link": true
    },
    "kernelspec": {
      "name": "python3",
      "display_name": "Python 3"
    },
    "language_info": {
      "name": "python"
    }
  },
  "cells": [
    {
      "cell_type": "markdown",
      "metadata": {
        "id": "view-in-github",
        "colab_type": "text"
      },
      "source": [
        "<a href=\"https://colab.research.google.com/github/pgurazada/captioning-with-multimodal-models/blob/main/classification_with_gemini_pro_vision.ipynb\" target=\"_parent\"><img src=\"https://colab.research.google.com/assets/colab-badge.svg\" alt=\"Open In Colab\"/></a>"
      ]
    },
    {
      "cell_type": "code",
      "execution_count": 1,
      "metadata": {
        "id": "HHWjYaYGH3ey"
      },
      "outputs": [],
      "source": [
        "!pip install --upgrade --user -q google-cloud-aiplatform"
      ]
    },
    {
      "cell_type": "code",
      "source": [
        "!pip install -q datasets"
      ],
      "metadata": {
        "id": "CZLTzSbJLG5N"
      },
      "execution_count": 2,
      "outputs": []
    },
    {
      "cell_type": "code",
      "source": [
        "import vertexai\n",
        "import json\n",
        "\n",
        "import numpy as np\n",
        "\n",
        "from vertexai.preview.generative_models import (\n",
        "    GenerationConfig,\n",
        "    GenerativeModel,\n",
        "    Image\n",
        ")\n",
        "\n",
        "from datasets import load_dataset\n",
        "from tqdm import tqdm\n",
        "\n",
        "from google.colab import auth"
      ],
      "metadata": {
        "id": "s4oAKdcdIF6C"
      },
      "execution_count": 3,
      "outputs": []
    },
    {
      "cell_type": "markdown",
      "source": [
        "# Setup"
      ],
      "metadata": {
        "id": "XpcZpckCM3bv"
      }
    },
    {
      "cell_type": "code",
      "source": [
        "auth.authenticate_user()"
      ],
      "metadata": {
        "id": "kw69U1yBIML-"
      },
      "execution_count": 4,
      "outputs": []
    },
    {
      "cell_type": "code",
      "source": [
        "with open(\"config-vertexai.json\") as f:\n",
        "    data = f.read()"
      ],
      "metadata": {
        "id": "FHwdUH1hMRvE"
      },
      "execution_count": 5,
      "outputs": []
    },
    {
      "cell_type": "code",
      "source": [
        "creds = json.loads(data)"
      ],
      "metadata": {
        "id": "0IQnVRmfMlyd"
      },
      "execution_count": 6,
      "outputs": []
    },
    {
      "cell_type": "code",
      "source": [
        "vertexai.init(\n",
        "    project=creds[\"project\"],\n",
        "    location=creds[\"location\"]\n",
        ")"
      ],
      "metadata": {
        "id": "RhVjr1q_IhCI"
      },
      "execution_count": 7,
      "outputs": []
    },
    {
      "cell_type": "code",
      "source": [
        "multimodal_model = GenerativeModel(\"gemini-pro-vision\")"
      ],
      "metadata": {
        "id": "ih-RRJaSIcYb"
      },
      "execution_count": 8,
      "outputs": []
    },
    {
      "cell_type": "markdown",
      "source": [
        "# Data"
      ],
      "metadata": {
        "id": "Se1hVGvhM4tw"
      }
    },
    {
      "cell_type": "code",
      "source": [
        "painting_style_ds = load_dataset(\n",
        "    \"keremberke/painting-style-classification\",\n",
        "    name=\"full\"\n",
        ")"
      ],
      "metadata": {
        "id": "Xr_NPE3iM5w3"
      },
      "execution_count": 9,
      "outputs": []
    },
    {
      "cell_type": "code",
      "source": [
        "sample_size = 50"
      ],
      "metadata": {
        "id": "zfuFpHKwVAaW"
      },
      "execution_count": 10,
      "outputs": []
    },
    {
      "cell_type": "code",
      "source": [
        "test_data = painting_style_ds['test'].shuffle()[0:sample_size]"
      ],
      "metadata": {
        "id": "FSnbQrS3cIlZ"
      },
      "execution_count": 11,
      "outputs": []
    },
    {
      "cell_type": "code",
      "source": [
        "test_images = test_data['image_file_path']\n",
        "test_labels = test_data['labels']"
      ],
      "metadata": {
        "id": "sKja7REiVzCK"
      },
      "execution_count": 12,
      "outputs": []
    },
    {
      "cell_type": "code",
      "source": [
        "len(test_images), len(test_labels)"
      ],
      "metadata": {
        "colab": {
          "base_uri": "https://localhost:8080/"
        },
        "id": "z07Rbl3MVmI2",
        "outputId": "ef3be543-0b69-4c68-dcf7-da32d1192ff5"
      },
      "execution_count": 13,
      "outputs": [
        {
          "output_type": "execute_result",
          "data": {
            "text/plain": [
              "(50, 50)"
            ]
          },
          "metadata": {},
          "execution_count": 13
        }
      ]
    },
    {
      "cell_type": "code",
      "source": [
        "system_instructions = \"\"\"\n",
        "Instructions: Consider the following image that contains movement art images that range from \\\n",
        "Abstract Expressionism to Pop Art.\n",
        "\n",
        "Each image corresponds to one of the following classes:\n",
        "Abstract_Expressionism\n",
        "Action_painting\n",
        "Analytical_Cubism\n",
        "Art_Nouveau_Modern\n",
        "Baroque\n",
        "Color_Field_Painting\n",
        "Contemporary_Realism\n",
        "Cubism\n",
        "Early_Renaissance\n",
        "Expressionism\n",
        "Fauvism\n",
        "High_Renaissance\n",
        "Impressionism\n",
        "Mannerism_Late_Renaissance\n",
        "Minimalism\n",
        "Naive_Art_Primitivism\n",
        "New_Realism\n",
        "Northern_Renaissance\n",
        "Pointillism\n",
        "Pop_Art\n",
        "Post_Impressionism\n",
        "Realism\n",
        "Rococo\n",
        "Romanticism\n",
        "Symbolism\n",
        "Synthetic_Cubism\n",
        "Ukiyo_e\n",
        "\"\"\"\n",
        "\n",
        "task_prompt = \"\"\"\n",
        "Identify the class of the art depicted in the image as one of the above classes.\n",
        "The class label generated should strictly belong to one of the classes above.\n",
        "Your answer should only contain the class depicted. Do not explain your answer.\n",
        "\"\"\""
      ],
      "metadata": {
        "id": "sPm7tAk7JTtX"
      },
      "execution_count": 14,
      "outputs": []
    },
    {
      "cell_type": "code",
      "source": [
        "art_classification_generation_config = GenerationConfig(\n",
        "    temperature=0,\n",
        "    top_p=1.0,\n",
        "    max_output_tokens=16\n",
        ")"
      ],
      "metadata": {
        "id": "TMivZ-vGYDcA"
      },
      "execution_count": 15,
      "outputs": []
    },
    {
      "cell_type": "code",
      "source": [
        "dataset_labels = [\n",
        "    'Realism', 'Art_Nouveau_Modern', 'Analytical_Cubism',\n",
        "    'Cubism', 'Expressionism', 'Action_painting', 'Synthetic_Cubism',\n",
        "    'Symbolism', 'Ukiyo_e', 'Naive_Art_Primitivism', 'Post_Impressionism',\n",
        "    'Impressionism', 'Fauvism', 'Rococo', 'Minimalism',\n",
        "    'Mannerism_Late_Renaissance', 'Color_Field_Painting',\n",
        "    'High_Renaissance', 'Romanticism', 'Pop_Art', 'Contemporary_Realism',\n",
        "    'Baroque', 'New_Realism', 'Pointillism', 'Northern_Renaissance',\n",
        "    'Early_Renaissance', 'Abstract_Expressionism'\n",
        "]"
      ],
      "metadata": {
        "id": "rtqw-7znbBaH"
      },
      "execution_count": 16,
      "outputs": []
    },
    {
      "cell_type": "code",
      "source": [
        "model_predictions, ground_truths = [], []\n",
        "\n",
        "for test_image, test_label in tqdm(zip(test_images, test_labels)):\n",
        "\n",
        "    test_image_input = Image.load_from_file(test_image)\n",
        "\n",
        "    prompt = [\n",
        "        system_instructions,\n",
        "        test_image_input,\n",
        "        task_prompt\n",
        "    ]\n",
        "\n",
        "    try:\n",
        "        response = multimodal_model.generate_content(\n",
        "            prompt,\n",
        "            generation_config=art_classification_generation_config\n",
        "        )\n",
        "\n",
        "        model_predictions.append(response.text.strip())\n",
        "        ground_truths.append(dataset_labels[test_label])\n",
        "    except Exception as e:\n",
        "        print(e)\n",
        "        continue\n"
      ],
      "metadata": {
        "colab": {
          "base_uri": "https://localhost:8080/"
        },
        "id": "KDrE4evOXP-z",
        "outputId": "017056a3-adba-44d5-e2a8-4ba5c8c1ea09"
      },
      "execution_count": 17,
      "outputs": [
        {
          "output_type": "stream",
          "name": "stderr",
          "text": [
            "10it [00:52,  4.82s/it]"
          ]
        },
        {
          "output_type": "stream",
          "name": "stdout",
          "text": [
            "Content has no parts.\n"
          ]
        },
        {
          "output_type": "stream",
          "name": "stderr",
          "text": [
            "13it [01:17,  6.25s/it]"
          ]
        },
        {
          "output_type": "stream",
          "name": "stdout",
          "text": [
            "Content has no parts.\n"
          ]
        },
        {
          "output_type": "stream",
          "name": "stderr",
          "text": [
            "\r14it [01:21,  5.68s/it]"
          ]
        },
        {
          "output_type": "stream",
          "name": "stdout",
          "text": [
            "Content has no parts.\n"
          ]
        },
        {
          "output_type": "stream",
          "name": "stderr",
          "text": [
            "41it [03:27,  4.51s/it]"
          ]
        },
        {
          "output_type": "stream",
          "name": "stdout",
          "text": [
            "Content has no parts.\n"
          ]
        },
        {
          "output_type": "stream",
          "name": "stderr",
          "text": [
            "45it [03:45,  4.49s/it]"
          ]
        },
        {
          "output_type": "stream",
          "name": "stdout",
          "text": [
            "Content has no parts.\n"
          ]
        },
        {
          "output_type": "stream",
          "name": "stderr",
          "text": [
            "47it [03:57,  5.13s/it]"
          ]
        },
        {
          "output_type": "stream",
          "name": "stdout",
          "text": [
            "Content has no parts.\n"
          ]
        },
        {
          "output_type": "stream",
          "name": "stderr",
          "text": [
            "\r48it [04:02,  4.92s/it]"
          ]
        },
        {
          "output_type": "stream",
          "name": "stdout",
          "text": [
            "Content has no parts.\n"
          ]
        },
        {
          "output_type": "stream",
          "name": "stderr",
          "text": [
            "50it [04:11,  5.02s/it]\n"
          ]
        }
      ]
    },
    {
      "cell_type": "code",
      "source": [
        "(np.array(model_predictions) == np.array(ground_truths)).mean()"
      ],
      "metadata": {
        "colab": {
          "base_uri": "https://localhost:8080/"
        },
        "id": "WeVDt_HNXHDq",
        "outputId": "511d2277-e23e-4120-c51a-e3c67aa8e472"
      },
      "execution_count": 18,
      "outputs": [
        {
          "output_type": "execute_result",
          "data": {
            "text/plain": [
              "0.6511627906976745"
            ]
          },
          "metadata": {},
          "execution_count": 18
        }
      ]
    }
  ]
}