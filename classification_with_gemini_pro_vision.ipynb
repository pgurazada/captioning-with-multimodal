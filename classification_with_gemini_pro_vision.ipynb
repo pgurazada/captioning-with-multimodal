{
  "cells": [
    {
      "cell_type": "markdown",
      "metadata": {
        "colab_type": "text",
        "id": "view-in-github"
      },
      "source": [
        "<a href=\"https://colab.research.google.com/github/pgurazada/captioning-with-multimodal-models/blob/main/classification_with_gemini_pro_vision.ipynb\" target=\"_parent\"><img src=\"https://colab.research.google.com/assets/colab-badge.svg\" alt=\"Open In Colab\"/></a>"
      ]
    },
    {
      "cell_type": "code",
      "execution_count": 1,
      "metadata": {
        "id": "HHWjYaYGH3ey"
      },
      "outputs": [],
      "source": [
        "!pip install --upgrade --user -q google-cloud-aiplatform"
      ]
    },
    {
      "cell_type": "code",
      "execution_count": 2,
      "metadata": {
        "id": "CZLTzSbJLG5N"
      },
      "outputs": [],
      "source": [
        "!pip install -q datasets"
      ]
    },
    {
      "cell_type": "code",
      "execution_count": 3,
      "metadata": {
        "id": "s4oAKdcdIF6C"
      },
      "outputs": [],
      "source": [
        "import vertexai\n",
        "import json\n",
        "\n",
        "import numpy as np\n",
        "\n",
        "from vertexai.preview.generative_models import (\n",
        "    GenerationConfig,\n",
        "    GenerativeModel,\n",
        "    Image\n",
        ")\n",
        "\n",
        "from datasets import load_dataset\n",
        "from tqdm import tqdm\n",
        "\n",
        "from google.colab import auth"
      ]
    },
    {
      "cell_type": "markdown",
      "metadata": {
        "id": "XpcZpckCM3bv"
      },
      "source": [
        "# Setup"
      ]
    },
    {
      "cell_type": "code",
      "execution_count": 4,
      "metadata": {
        "id": "kw69U1yBIML-"
      },
      "outputs": [],
      "source": [
        "auth.authenticate_user()"
      ]
    },
    {
      "cell_type": "code",
      "execution_count": 5,
      "metadata": {
        "id": "FHwdUH1hMRvE"
      },
      "outputs": [],
      "source": [
        "with open(\"config-vertexai.json\") as f:\n",
        "    data = f.read()"
      ]
    },
    {
      "cell_type": "code",
      "execution_count": 6,
      "metadata": {
        "id": "0IQnVRmfMlyd"
      },
      "outputs": [],
      "source": [
        "creds = json.loads(data)"
      ]
    },
    {
      "cell_type": "code",
      "execution_count": 7,
      "metadata": {
        "id": "RhVjr1q_IhCI"
      },
      "outputs": [],
      "source": [
        "vertexai.init(\n",
        "    project=creds[\"project\"],\n",
        "    location=creds[\"location\"]\n",
        ")"
      ]
    },
    {
      "cell_type": "code",
      "execution_count": 8,
      "metadata": {
        "id": "ih-RRJaSIcYb"
      },
      "outputs": [],
      "source": [
        "multimodal_model = GenerativeModel(\"gemini-pro-vision\")"
      ]
    },
    {
      "cell_type": "markdown",
      "metadata": {
        "id": "Se1hVGvhM4tw"
      },
      "source": [
        "# Data"
      ]
    },
    {
      "cell_type": "code",
      "execution_count": 9,
      "metadata": {
        "id": "Xr_NPE3iM5w3"
      },
      "outputs": [],
      "source": [
        "painting_style_ds = load_dataset(\n",
        "    \"keremberke/painting-style-classification\",\n",
        "    name=\"full\"\n",
        ")"
      ]
    },
    {
      "cell_type": "code",
      "execution_count": 10,
      "metadata": {
        "id": "zfuFpHKwVAaW"
      },
      "outputs": [],
      "source": [
        "sample_size = 50"
      ]
    },
    {
      "cell_type": "code",
      "execution_count": 11,
      "metadata": {
        "id": "FSnbQrS3cIlZ"
      },
      "outputs": [],
      "source": [
        "test_data = painting_style_ds['test'].shuffle()[0:sample_size]"
      ]
    },
    {
      "cell_type": "code",
      "execution_count": 12,
      "metadata": {
        "id": "sKja7REiVzCK"
      },
      "outputs": [],
      "source": [
        "test_images = test_data['image_file_path']\n",
        "test_labels = test_data['labels']"
      ]
    },
    {
      "cell_type": "code",
      "execution_count": 13,
      "metadata": {
        "colab": {
          "base_uri": "https://localhost:8080/"
        },
        "id": "z07Rbl3MVmI2",
        "outputId": "ef3be543-0b69-4c68-dcf7-da32d1192ff5"
      },
      "outputs": [
        {
          "data": {
            "text/plain": [
              "(50, 50)"
            ]
          },
          "execution_count": 13,
          "metadata": {},
          "output_type": "execute_result"
        }
      ],
      "source": [
        "len(test_images), len(test_labels)"
      ]
    },
    {
      "cell_type": "markdown",
      "metadata": {
        "id": "tbb6rVjFhsFI"
      },
      "source": [
        "# Evaluation"
      ]
    },
    {
      "cell_type": "code",
      "execution_count": 14,
      "metadata": {
        "id": "sPm7tAk7JTtX"
      },
      "outputs": [],
      "source": [
        "system_instructions = \"\"\"\n",
        "Instructions: Consider the following image that contains movement art images that range from \\\n",
        "Abstract Expressionism to Pop Art.\n",
        "\n",
        "Each image corresponds to one of the following classes:\n",
        "Abstract_Expressionism\n",
        "Action_painting\n",
        "Analytical_Cubism\n",
        "Art_Nouveau_Modern\n",
        "Baroque\n",
        "Color_Field_Painting\n",
        "Contemporary_Realism\n",
        "Cubism\n",
        "Early_Renaissance\n",
        "Expressionism\n",
        "Fauvism\n",
        "High_Renaissance\n",
        "Impressionism\n",
        "Mannerism_Late_Renaissance\n",
        "Minimalism\n",
        "Naive_Art_Primitivism\n",
        "New_Realism\n",
        "Northern_Renaissance\n",
        "Pointillism\n",
        "Pop_Art\n",
        "Post_Impressionism\n",
        "Realism\n",
        "Rococo\n",
        "Romanticism\n",
        "Symbolism\n",
        "Synthetic_Cubism\n",
        "Ukiyo_e\n",
        "\"\"\"\n",
        "\n",
        "task_prompt = \"\"\"\n",
        "Identify the class of the art depicted in the image as one of the above classes.\n",
        "The class label generated should strictly belong to one of the classes above.\n",
        "Your answer should only contain the class depicted. Do not explain your answer.\n",
        "\"\"\""
      ]
    },
    {
      "cell_type": "code",
      "execution_count": 15,
      "metadata": {
        "id": "TMivZ-vGYDcA"
      },
      "outputs": [],
      "source": [
        "art_classification_generation_config = GenerationConfig(\n",
        "    temperature=0,\n",
        "    top_p=1.0,\n",
        "    max_output_tokens=16\n",
        ")"
      ]
    },
    {
      "cell_type": "code",
      "execution_count": 16,
      "metadata": {
        "id": "rtqw-7znbBaH"
      },
      "outputs": [],
      "source": [
        "dataset_labels = [\n",
        "    'Realism', 'Art_Nouveau_Modern', 'Analytical_Cubism',\n",
        "    'Cubism', 'Expressionism', 'Action_painting', 'Synthetic_Cubism',\n",
        "    'Symbolism', 'Ukiyo_e', 'Naive_Art_Primitivism', 'Post_Impressionism',\n",
        "    'Impressionism', 'Fauvism', 'Rococo', 'Minimalism',\n",
        "    'Mannerism_Late_Renaissance', 'Color_Field_Painting',\n",
        "    'High_Renaissance', 'Romanticism', 'Pop_Art', 'Contemporary_Realism',\n",
        "    'Baroque', 'New_Realism', 'Pointillism', 'Northern_Renaissance',\n",
        "    'Early_Renaissance', 'Abstract_Expressionism'\n",
        "]"
      ]
    },
    {
      "cell_type": "code",
      "execution_count": 17,
      "metadata": {
        "colab": {
          "base_uri": "https://localhost:8080/"
        },
        "id": "KDrE4evOXP-z",
        "outputId": "017056a3-adba-44d5-e2a8-4ba5c8c1ea09"
      },
      "outputs": [
        {
          "name": "stderr",
          "output_type": "stream",
          "text": [
            "10it [00:52,  4.82s/it]"
          ]
        },
        {
          "name": "stdout",
          "output_type": "stream",
          "text": [
            "Content has no parts.\n"
          ]
        },
        {
          "name": "stderr",
          "output_type": "stream",
          "text": [
            "13it [01:17,  6.25s/it]"
          ]
        },
        {
          "name": "stdout",
          "output_type": "stream",
          "text": [
            "Content has no parts.\n"
          ]
        },
        {
          "name": "stderr",
          "output_type": "stream",
          "text": [
            "\r14it [01:21,  5.68s/it]"
          ]
        },
        {
          "name": "stdout",
          "output_type": "stream",
          "text": [
            "Content has no parts.\n"
          ]
        },
        {
          "name": "stderr",
          "output_type": "stream",
          "text": [
            "41it [03:27,  4.51s/it]"
          ]
        },
        {
          "name": "stdout",
          "output_type": "stream",
          "text": [
            "Content has no parts.\n"
          ]
        },
        {
          "name": "stderr",
          "output_type": "stream",
          "text": [
            "45it [03:45,  4.49s/it]"
          ]
        },
        {
          "name": "stdout",
          "output_type": "stream",
          "text": [
            "Content has no parts.\n"
          ]
        },
        {
          "name": "stderr",
          "output_type": "stream",
          "text": [
            "47it [03:57,  5.13s/it]"
          ]
        },
        {
          "name": "stdout",
          "output_type": "stream",
          "text": [
            "Content has no parts.\n"
          ]
        },
        {
          "name": "stderr",
          "output_type": "stream",
          "text": [
            "\r48it [04:02,  4.92s/it]"
          ]
        },
        {
          "name": "stdout",
          "output_type": "stream",
          "text": [
            "Content has no parts.\n"
          ]
        },
        {
          "name": "stderr",
          "output_type": "stream",
          "text": [
            "50it [04:11,  5.02s/it]\n"
          ]
        }
      ],
      "source": [
        "model_predictions, ground_truths = [], []\n",
        "\n",
        "for test_image, test_label in tqdm(zip(test_images, test_labels)):\n",
        "\n",
        "    test_image_input = Image.load_from_file(test_image)\n",
        "\n",
        "    prompt = [\n",
        "        system_instructions,\n",
        "        test_image_input,\n",
        "        task_prompt\n",
        "    ]\n",
        "\n",
        "    try:\n",
        "        response = multimodal_model.generate_content(\n",
        "            prompt,\n",
        "            generation_config=art_classification_generation_config\n",
        "        )\n",
        "\n",
        "        model_predictions.append(response.text.strip())\n",
        "        ground_truths.append(dataset_labels[test_label])\n",
        "    except Exception as e:\n",
        "        print(e)\n",
        "        continue\n"
      ]
    },
    {
      "cell_type": "code",
      "execution_count": 18,
      "metadata": {
        "colab": {
          "base_uri": "https://localhost:8080/"
        },
        "id": "WeVDt_HNXHDq",
        "outputId": "511d2277-e23e-4120-c51a-e3c67aa8e472"
      },
      "outputs": [
        {
          "data": {
            "text/plain": [
              "0.6511627906976745"
            ]
          },
          "execution_count": 18,
          "metadata": {},
          "output_type": "execute_result"
        }
      ],
      "source": [
        "(np.array(model_predictions) == np.array(ground_truths)).mean()"
      ]
    }
  ],
  "metadata": {
    "colab": {
      "authorship_tag": "ABX9TyOVaa6G71qy2Y0BMtubOoEb",
      "include_colab_link": true,
      "provenance": []
    },
    "kernelspec": {
      "display_name": "Python 3",
      "name": "python3"
    },
    "language_info": {
      "name": "python",
      "version": "3.9.2"
    }
  },
  "nbformat": 4,
  "nbformat_minor": 0
}
